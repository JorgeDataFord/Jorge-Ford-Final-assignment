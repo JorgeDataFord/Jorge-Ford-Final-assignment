{
 "cells": [
  {
   "cell_type": "code",
   "execution_count": 1,
   "id": "89e193a9",
   "metadata": {},
   "outputs": [],
   "source": [
    "# H1: Data Science Tools and ecosystem"
   ]
  },
  {
   "cell_type": "markdown",
   "id": "94701e93",
   "metadata": {},
   "source": [
    "#  H1: Data Science Tools and ecosystem"
   ]
  },
  {
   "cell_type": "code",
   "execution_count": 2,
   "id": "a09243ba",
   "metadata": {},
   "outputs": [],
   "source": [
    "#In this notebook, Data science tools and ecosystems are summarize \n"
   ]
  },
  {
   "cell_type": "markdown",
   "id": "3b0e0dbd",
   "metadata": {},
   "source": [
    "_objectives:_\n",
    "\n",
    "* List popular languages for Data Science \n",
    "* List popular development environments\n",
    "* List commonly used libraries for Data Science\n",
    "* Exercies markdowns writing"
   ]
  },
  {
   "cell_type": "markdown",
   "id": "962449b1",
   "metadata": {},
   "source": [
    "H3: Some of the popular languages that Data Scientists use are:\n",
    "1. Python\n",
    "2. SQL\n",
    "3. R.\n",
    "4. Java"
   ]
  },
  {
   "cell_type": "markdown",
   "id": "fadf4824",
   "metadata": {},
   "source": [
    "H3: Some of the commonly used libraries used by Data Scientists include:\n",
    "\n",
    "        1. Pandas\n",
    "        2. Scikit-learn\n",
    "        3. Numpy\n",
    "        4. Matplotlib"
   ]
  },
  {
   "cell_type": "markdown",
   "id": "27ccadd6",
   "metadata": {},
   "source": [
    "|Data Science Tools|\n",
    "|------------------|\n",
    "|Anaconda|\n",
    "|Rstudio|\n",
    "|Git|"
   ]
  },
  {
   "cell_type": "markdown",
   "id": "1c0460d4",
   "metadata": {},
   "source": [
    "H3: Below are a few examples of evaluating arithmetic expressions in Python"
   ]
  },
  {
   "cell_type": "code",
   "execution_count": 4,
   "id": "5ca5c47d",
   "metadata": {},
   "outputs": [
    {
     "data": {
      "text/plain": [
       "17"
      ]
     },
     "execution_count": 4,
     "metadata": {},
     "output_type": "execute_result"
    }
   ],
   "source": [
    "#this a simple arithmetic expression to mutiply then add integers.\n",
    "\n",
    "(3*4)+5"
   ]
  },
  {
   "cell_type": "code",
   "execution_count": 5,
   "id": "ebae2273",
   "metadata": {},
   "outputs": [
    {
     "data": {
      "text/plain": [
       "3.3333333333333335"
      ]
     },
     "execution_count": 5,
     "metadata": {},
     "output_type": "execute_result"
    }
   ],
   "source": [
    "# This will convert 200 minutes to hours by diving by 60\n",
    "\n",
    "(200/60)"
   ]
  },
  {
   "cell_type": "markdown",
   "id": "24a17ea1",
   "metadata": {},
   "source": [
    "# H2: Author\n",
    "\n",
    "Jorge Ford"
   ]
  },
  {
   "cell_type": "code",
   "execution_count": null,
   "id": "80c2a024",
   "metadata": {},
   "outputs": [],
   "source": []
  }
 ],
 "metadata": {
  "kernelspec": {
   "display_name": "Python 3 (ipykernel)",
   "language": "python",
   "name": "python3"
  },
  "language_info": {
   "codemirror_mode": {
    "name": "ipython",
    "version": 3
   },
   "file_extension": ".py",
   "mimetype": "text/x-python",
   "name": "python",
   "nbconvert_exporter": "python",
   "pygments_lexer": "ipython3",
   "version": "3.11.4"
  }
 },
 "nbformat": 4,
 "nbformat_minor": 5
}
